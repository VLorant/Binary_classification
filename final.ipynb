{
 "cells": [
  {
   "metadata": {},
   "cell_type": "code",
   "outputs": [],
   "execution_count": null,
   "source": [
    "import re\n",
    "from io import StringIO\n",
    "from os import listdir\n",
    "from typing import Type\n",
    "\n",
    "import numpy as np\n",
    "import pandas as pd\n",
    "from scipy.io import arff\n",
    "from sklearn.base import ClassifierMixin\n",
    "from sklearn.ensemble import GradientBoostingClassifier\n",
    "from sklearn.ensemble import RandomForestClassifier\n",
    "from sklearn.metrics import f1_score, accuracy_score, recall_score, confusion_matrix\n",
    "from sklearn.model_selection import GridSearchCV, RepeatedStratifiedKFold\n",
    "from sklearn.neighbors import KNeighborsClassifier\n",
    "from sklearn.svm import SVC\n",
    "from sklearn.tree import DecisionTreeClassifier"
   ],
   "id": "56a05fe0cac030d4"
  },
  {
   "metadata": {
    "ExecuteTime": {
     "end_time": "2025-04-20T15:58:49.546647Z",
     "start_time": "2025-04-20T15:58:49.538016Z"
    }
   },
   "cell_type": "code",
   "outputs": [],
   "execution_count": 14,
   "source": [
    "def search_best_params(u_model: Type[ClassifierMixin], u_params: dict, u_train: str, u_test: list[str], u_features: int,\n",
    "                       save_file_name: str,\n",
    "                       raw_output: bool = False, save: bool = False) -> pd.DataFrame:\n",
    "    cv = RepeatedStratifiedKFold(n_splits=5, n_repeats=5, random_state=20)\n",
    "\n",
    "    search = GridSearchCV(\n",
    "        u_model(),\n",
    "        param_grid=u_params,\n",
    "        cv=cv,\n",
    "        n_jobs=-1,\n",
    "        scoring='f1',\n",
    "        refit=True\n",
    "    )\n",
    "\n",
    "    def read_arff(filename: str) -> pd.DataFrame:\n",
    "        read_data = \"\"\n",
    "        with open(filename, 'r') as f:\n",
    "            read_data = f.read()\n",
    "        read_data = read_data[:read_data.index(\"@inputs\")] + read_data[read_data.index(\"@data\"):]\n",
    "        data = StringIO(read_data)\n",
    "        data, meta = arff.loadarff(data)\n",
    "        df = pd.DataFrame(data)\n",
    "        if 'cluster_idx' in df.columns:\n",
    "            df = df.drop(['cluster_idx', 'is_noise'], axis=1)\n",
    "        df['Class'] = df['Class'].astype(int)\n",
    "        return df\n",
    "\n",
    "    data = read_arff(u_train)\n",
    "    X = data.iloc[:, :u_features]\n",
    "    y = data.iloc[:, u_features]\n",
    "    search.fit(X, y)\n",
    "    scores = pd.DataFrame(\n",
    "        index=[1, 2, 3],\n",
    "        columns=['Accuracy', 'Sensitivity', 'Specificity', 'F1', 'G-mean'],\n",
    "        dtype=np.float64\n",
    "    )\n",
    "    for i in range(1, 4):\n",
    "        test = read_arff(u_test[i - 1])\n",
    "        X_test = test.iloc[:, :u_features]\n",
    "        y_test = test.iloc[:, u_features]\n",
    "        y_pred = search.predict(X_test)\n",
    "        tn, fp, fn, tp = confusion_matrix(y_test, y_pred).ravel()\n",
    "        scores.loc[i] = [\n",
    "            accuracy_score(y_test, y_pred),\n",
    "            recall_score(y_test, y_pred, pos_label=1),\n",
    "            tn / (tn + fp),\n",
    "            f1_score(y_test, y_pred, pos_label=1),\n",
    "            np.sqrt(recall_score(y_test, y_pred, pos_label=1) * (tn / (tn + fp)))\n",
    "        ]\n",
    "    if not raw_output:\n",
    "        datas = pd.DataFrame(data=scores.mean(), index=['Accuracy', 'Sensitivity', 'Specificity', 'F1', 'G-mean'],\n",
    "                             columns=['Mean'])\n",
    "        if save:\n",
    "            datas.to_json(save_file_name + '.json', orient='split')\n",
    "        return datas\n",
    "    if save:\n",
    "        scores.to_json(save_file_name + '.json', orient='split')\n",
    "        return scores\n",
    "    else:\n",
    "        return scores\n"
   ],
   "id": "6a860b41b332162c"
  },
  {
   "metadata": {
    "ExecuteTime": {
     "end_time": "2025-04-20T16:19:55.791834Z",
     "start_time": "2025-04-20T16:19:55.779880Z"
    }
   },
   "cell_type": "code",
   "outputs": [],
   "execution_count": 33,
   "source": [
    "def automated_file_select_search(train_path: str, test_path: str, u_model: Type[ClassifierMixin], u_params: dict, save_file_name: str, raw_output: bool = False, save: bool = False):\n",
    "    def sorting_params(f_name: str):\n",
    "        n = re.search(r'N_(\\d+)', f_name)\n",
    "        d = re.search(r'D_(\\d+)', f_name)\n",
    "        n_min = re.search(r'Nmin_(\\d+)', f_name)\n",
    "        z_min = re.search(r'Zmin_(\\d+)', f_name)\n",
    "        return int(n.group(1)), int(d.group(1)), int(n_min.group(1)), int(z_min.group(1))\n",
    "\n",
    "    train_files = listdir(train_path)\n",
    "    train_files.sort(key=sorting_params)\n",
    "    train_and_test_dict: dict[str, list[str]] = {}\n",
    "    for data in train_files:\n",
    "        train_and_test_dict[train_path+ \"/\" + data] = [\n",
    "            test_path + \"/\" + data.replace(data[data.index(\"Zmin\"):data.index(\".dat\")], \"Zmin_0-CL_1_1-R_0_test_1\"),\n",
    "            test_path + \"/\" + data.replace(data[data.index(\"Zmin\"):data.index(\".dat\")], \"Zmin_0-CL_1_1-R_0_test_2\"),\n",
    "            test_path + \"/\" + data.replace(data[data.index(\"Zmin\"):data.index(\".dat\")], \"Zmin_0-CL_1_1-R_0_test_2\")\n",
    "        ]\n",
    "    for index, (train, test) in enumerate(train_and_test_dict.items(), start=1):\n",
    "        print(f\"processing: {train}, {index}/{len(train_and_test_dict)}\")\n",
    "        SFN = save_file_name + \"-\" + train.split(\"/\")[-1]\n",
    "        search_best_params(u_model, u_params, train, test, int(re.search(r\"D_(\\d+)\", train).group(1)), SFN, raw_output, save)"
   ],
   "id": "fe7c1c2ebaf06463"
  }
 ],
 "metadata": {
  "kernelspec": {
   "display_name": "Python 3",
   "language": "python",
   "name": "python3"
  },
  "language_info": {
   "codemirror_mode": {
    "name": "ipython",
    "version": 2
   },
   "file_extension": ".py",
   "mimetype": "text/x-python",
   "name": "python",
   "nbconvert_exporter": "python",
   "pygments_lexer": "ipython2",
   "version": "2.7.6"
  }
 },
 "nbformat": 4,
 "nbformat_minor": 5
}
