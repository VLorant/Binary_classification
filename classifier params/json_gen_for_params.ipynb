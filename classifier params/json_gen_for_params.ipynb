{
 "cells": [
  {
   "cell_type": "code",
   "id": "initial_id",
   "metadata": {
    "collapsed": true,
    "ExecuteTime": {
     "end_time": "2025-04-27T14:39:18.329793Z",
     "start_time": "2025-04-27T14:39:18.326716Z"
    }
   },
   "source": "import json",
   "outputs": [],
   "execution_count": 1
  },
  {
   "metadata": {
    "ExecuteTime": {
     "end_time": "2025-04-27T14:42:18.323379Z",
     "start_time": "2025-04-27T14:42:18.313994Z"
    }
   },
   "cell_type": "code",
   "source": [
    "def generate_json_for_params(params: dict, filename: str):\n",
    "    with open(f\"{filename}.json\", 'w') as f:\n",
    "        json.dump(params, f)\n",
    "    print(f\"[OK] Json saved: [{filename}]\")"
   ],
   "id": "54085d8a64232bf",
   "outputs": [],
   "execution_count": 4
  },
  {
   "metadata": {
    "ExecuteTime": {
     "end_time": "2025-04-27T14:42:19.081125Z",
     "start_time": "2025-04-27T14:42:19.075717Z"
    }
   },
   "cell_type": "code",
   "source": [
    "params: dict = {\n",
    "    'n_neighbors': [*range(1, 31, 2)],\n",
    "        'weights': ['uniform', 'distance'],\n",
    "        'metric': ['euclidean', 'manhattan', 'minkowski'],\n",
    "        'p': [1, 2]\n",
    "}\n",
    "generate_json_for_params(params, 'KNeighborsClassifier')"
   ],
   "id": "3620335693c6b886",
   "outputs": [
    {
     "name": "stdout",
     "output_type": "stream",
     "text": [
      "[OK] Json saved: [KNeighborsClassifier]\n"
     ]
    }
   ],
   "execution_count": 5
  },
  {
   "metadata": {
    "ExecuteTime": {
     "end_time": "2025-04-27T14:43:12.573228Z",
     "start_time": "2025-04-27T14:43:12.560223Z"
    }
   },
   "cell_type": "code",
   "source": [
    "params:dict = {\n",
    "    'criterion': ['gini', 'entropy', 'log_loss'],\n",
    "        'max_depth': [None, 5, 10, 20],\n",
    "        'min_samples_split': [2, 5, 10],\n",
    "        'min_samples_leaf': [1, 2, 4],\n",
    "        'max_features': ['sqrt', 'log2', None]\n",
    "}\n",
    "generate_json_for_params(params, 'DecisionTreeClassifier')"
   ],
   "id": "f472b25211e63334",
   "outputs": [
    {
     "name": "stdout",
     "output_type": "stream",
     "text": [
      "[OK] Json saved: [DecisionTreeClassifier]\n"
     ]
    }
   ],
   "execution_count": 6
  },
  {
   "metadata": {
    "ExecuteTime": {
     "end_time": "2025-04-27T14:43:48.559470Z",
     "start_time": "2025-04-27T14:43:48.549886Z"
    }
   },
   "cell_type": "code",
   "source": [
    "params:dict = {'n_estimators': [100, 200, 500],\n",
    "        'max_depth': [None, 10, 20, 30],\n",
    "        'min_samples_split': [2, 5],\n",
    "        'min_samples_leaf': [1, 2],\n",
    "        'max_features': ['sqrt', 'log2'],\n",
    "        'bootstrap': [True, False]\n",
    "}\n",
    "generate_json_for_params(params, 'RandomForestClassifier')"
   ],
   "id": "31bdb4d4c5942915",
   "outputs": [
    {
     "name": "stdout",
     "output_type": "stream",
     "text": [
      "[OK] Json saved: [RandomForestClassifier]\n"
     ]
    }
   ],
   "execution_count": 7
  },
  {
   "metadata": {
    "ExecuteTime": {
     "end_time": "2025-04-27T14:44:16.504592Z",
     "start_time": "2025-04-27T14:44:16.493273Z"
    }
   },
   "cell_type": "code",
   "source": [
    "params:dict = {'C': [0.1, 1, 10, 100],\n",
    "        'kernel': ['linear', 'rbf', 'poly', 'sigmoid'],\n",
    "        'gamma': ['scale', 'auto'],\n",
    "        'degree': [2, 3, 4]\n",
    "}\n",
    "generate_json_for_params(params, 'SVC')"
   ],
   "id": "15397f946e9d884d",
   "outputs": [
    {
     "name": "stdout",
     "output_type": "stream",
     "text": [
      "[OK] Json saved: [SVC]\n"
     ]
    }
   ],
   "execution_count": 8
  },
  {
   "metadata": {
    "ExecuteTime": {
     "end_time": "2025-04-27T14:44:35.830425Z",
     "start_time": "2025-04-27T14:44:35.816894Z"
    }
   },
   "cell_type": "code",
   "source": [
    "params:dict = {'n_estimators': [100, 200],\n",
    "        'learning_rate': [0.01, 0.1, 0.2],\n",
    "        'max_depth': [3, 5, 7],\n",
    "        'subsample': [0.8, 1.0],\n",
    "        'min_samples_split': [2, 5],\n",
    "        'min_samples_leaf': [1, 2]\n",
    "}\n",
    "generate_json_for_params(params, 'GradientBoostingClassifier')"
   ],
   "id": "100279fb1b8a102e",
   "outputs": [
    {
     "name": "stdout",
     "output_type": "stream",
     "text": [
      "[OK] Json saved: [GradientBoostingClassifier]\n"
     ]
    }
   ],
   "execution_count": 9
  },
  {
   "metadata": {},
   "cell_type": "code",
   "outputs": [],
   "execution_count": null,
   "source": "",
   "id": "65da1a8d4143e400"
  }
 ],
 "metadata": {
  "kernelspec": {
   "display_name": "Python 3",
   "language": "python",
   "name": "python3"
  },
  "language_info": {
   "codemirror_mode": {
    "name": "ipython",
    "version": 2
   },
   "file_extension": ".py",
   "mimetype": "text/x-python",
   "name": "python",
   "nbconvert_exporter": "python",
   "pygments_lexer": "ipython2",
   "version": "2.7.6"
  }
 },
 "nbformat": 4,
 "nbformat_minor": 5
}
